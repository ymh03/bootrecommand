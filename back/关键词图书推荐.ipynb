{
 "cells": [
  {
   "cell_type": "code",
   "execution_count": 1,
   "id": "4489810c-af0a-435b-90e5-bec6d9ef9015",
   "metadata": {},
   "outputs": [
    {
     "name": "stdout",
     "output_type": "stream",
     "text": [
      "Looking in indexes: https://pypi.tuna.tsinghua.edu.cn/simple\n",
      "Requirement already satisfied: torch in /environment/miniconda3/lib/python3.10/site-packages (2.0.1+cu118)\n",
      "Requirement already satisfied: filelock in /environment/miniconda3/lib/python3.10/site-packages (from torch) (3.9.0)\n",
      "Requirement already satisfied: typing-extensions in /environment/miniconda3/lib/python3.10/site-packages (from torch) (4.8.0)\n",
      "Requirement already satisfied: sympy in /environment/miniconda3/lib/python3.10/site-packages (from torch) (1.11.1)\n",
      "Requirement already satisfied: networkx in /environment/miniconda3/lib/python3.10/site-packages (from torch) (3.0)\n",
      "Requirement already satisfied: jinja2 in /environment/miniconda3/lib/python3.10/site-packages (from torch) (3.1.2)\n",
      "Requirement already satisfied: triton==2.0.0 in /environment/miniconda3/lib/python3.10/site-packages (from torch) (2.0.0)\n",
      "Requirement already satisfied: cmake in /environment/miniconda3/lib/python3.10/site-packages (from triton==2.0.0->torch) (3.25.0)\n",
      "Requirement already satisfied: lit in /environment/miniconda3/lib/python3.10/site-packages (from triton==2.0.0->torch) (15.0.7)\n",
      "Requirement already satisfied: MarkupSafe>=2.0 in /environment/miniconda3/lib/python3.10/site-packages (from jinja2->torch) (2.1.2)\n",
      "Requirement already satisfied: mpmath>=0.19 in /environment/miniconda3/lib/python3.10/site-packages (from sympy->torch) (1.2.1)\n",
      "Note: you may need to restart the kernel to use updated packages.\n"
     ]
    }
   ],
   "source": [
    "pip install torch"
   ]
  },
  {
   "cell_type": "code",
   "execution_count": 2,
   "id": "a1837fe3-83d8-4bf0-9833-0f9137d192c3",
   "metadata": {},
   "outputs": [
    {
     "name": "stdout",
     "output_type": "stream",
     "text": [
      "Looking in indexes: https://pypi.tuna.tsinghua.edu.cn/simple\n",
      "Requirement already satisfied: transformers in /environment/miniconda3/lib/python3.10/site-packages (4.41.2)\n",
      "Requirement already satisfied: filelock in /environment/miniconda3/lib/python3.10/site-packages (from transformers) (3.9.0)\n",
      "Requirement already satisfied: huggingface-hub<1.0,>=0.23.0 in /environment/miniconda3/lib/python3.10/site-packages (from transformers) (0.23.4)\n",
      "Requirement already satisfied: numpy>=1.17 in /environment/miniconda3/lib/python3.10/site-packages (from transformers) (1.24.1)\n",
      "Requirement already satisfied: packaging>=20.0 in /environment/miniconda3/lib/python3.10/site-packages (from transformers) (23.0)\n",
      "Requirement already satisfied: pyyaml>=5.1 in /environment/miniconda3/lib/python3.10/site-packages (from transformers) (6.0.1)\n",
      "Requirement already satisfied: regex!=2019.12.17 in /environment/miniconda3/lib/python3.10/site-packages (from transformers) (2024.5.15)\n",
      "Requirement already satisfied: requests in /environment/miniconda3/lib/python3.10/site-packages (from transformers) (2.31.0)\n",
      "Requirement already satisfied: tokenizers<0.20,>=0.19 in /environment/miniconda3/lib/python3.10/site-packages (from transformers) (0.19.1)\n",
      "Requirement already satisfied: safetensors>=0.4.1 in /environment/miniconda3/lib/python3.10/site-packages (from transformers) (0.4.3)\n",
      "Requirement already satisfied: tqdm>=4.27 in /environment/miniconda3/lib/python3.10/site-packages (from transformers) (4.65.0)\n",
      "Requirement already satisfied: fsspec>=2023.5.0 in /environment/miniconda3/lib/python3.10/site-packages (from huggingface-hub<1.0,>=0.23.0->transformers) (2024.6.0)\n",
      "Requirement already satisfied: typing-extensions>=3.7.4.3 in /environment/miniconda3/lib/python3.10/site-packages (from huggingface-hub<1.0,>=0.23.0->transformers) (4.8.0)\n",
      "Requirement already satisfied: charset-normalizer<4,>=2 in /environment/miniconda3/lib/python3.10/site-packages (from requests->transformers) (2.0.4)\n",
      "Requirement already satisfied: idna<4,>=2.5 in /environment/miniconda3/lib/python3.10/site-packages (from requests->transformers) (2.10)\n",
      "Requirement already satisfied: urllib3<3,>=1.21.1 in /environment/miniconda3/lib/python3.10/site-packages (from requests->transformers) (1.25.11)\n",
      "Requirement already satisfied: certifi>=2017.4.17 in /environment/miniconda3/lib/python3.10/site-packages (from requests->transformers) (2023.7.22)\n",
      "Note: you may need to restart the kernel to use updated packages.\n"
     ]
    }
   ],
   "source": [
    "pip install transformers"
   ]
  },
  {
   "cell_type": "code",
   "execution_count": 3,
   "id": "cc97d6ec-18ee-4228-9393-cdb89a90dfc6",
   "metadata": {},
   "outputs": [
    {
     "name": "stderr",
     "output_type": "stream",
     "text": [
      "/environment/miniconda3/lib/python3.10/site-packages/tqdm/auto.py:21: TqdmWarning: IProgress not found. Please update jupyter and ipywidgets. See https://ipywidgets.readthedocs.io/en/stable/user_install.html\n",
      "  from .autonotebook import tqdm as notebook_tqdm\n"
     ]
    }
   ],
   "source": [
    "import pandas as pd\n",
    "import torch  \n",
    "from transformers import BertTokenizer, BertModel  \n",
    "from torch.utils.data import DataLoader  \n",
    "\n",
    "# 假设CSV文件名为'中文图书数据集.csv'，并且包含'关键词'和'书名'两列（注意这里使用中文列名）  \n",
    "file_path = '中文图书数据集.csv'  # 文件路径是一个字符串，不是DataFrame  \n",
    "keyword_column = '关键词'  # 使用中文列名  \n",
    "title_column = '书名'  # 使用中文列名  \n",
    "  \n",
    "# 读取CSV文件，注意这里只传递文件路径字符串  \n",
    "df = pd.read_csv(file_path, encoding='GBK')  # 假设文件编码是GBK "
   ]
  },
  {
   "cell_type": "code",
   "execution_count": 4,
   "id": "87cae7b0-2738-4d8e-b724-3ab254018c9e",
   "metadata": {},
   "outputs": [],
   "source": [
    "# 检查是否有可用的GPU  \n",
    "device = torch.device(\"cuda\" if torch.cuda.is_available() else \"cpu\")"
   ]
  },
  {
   "cell_type": "code",
   "execution_count": 5,
   "id": "2dacb874-dfa2-4420-89cd-0117623cef9a",
   "metadata": {},
   "outputs": [
    {
     "data": {
      "text/plain": [
       "BertModel(\n",
       "  (embeddings): BertEmbeddings(\n",
       "    (word_embeddings): Embedding(21128, 768, padding_idx=0)\n",
       "    (position_embeddings): Embedding(512, 768)\n",
       "    (token_type_embeddings): Embedding(2, 768)\n",
       "    (LayerNorm): LayerNorm((768,), eps=1e-12, elementwise_affine=True)\n",
       "    (dropout): Dropout(p=0.1, inplace=False)\n",
       "  )\n",
       "  (encoder): BertEncoder(\n",
       "    (layer): ModuleList(\n",
       "      (0-11): 12 x BertLayer(\n",
       "        (attention): BertAttention(\n",
       "          (self): BertSelfAttention(\n",
       "            (query): Linear(in_features=768, out_features=768, bias=True)\n",
       "            (key): Linear(in_features=768, out_features=768, bias=True)\n",
       "            (value): Linear(in_features=768, out_features=768, bias=True)\n",
       "            (dropout): Dropout(p=0.1, inplace=False)\n",
       "          )\n",
       "          (output): BertSelfOutput(\n",
       "            (dense): Linear(in_features=768, out_features=768, bias=True)\n",
       "            (LayerNorm): LayerNorm((768,), eps=1e-12, elementwise_affine=True)\n",
       "            (dropout): Dropout(p=0.1, inplace=False)\n",
       "          )\n",
       "        )\n",
       "        (intermediate): BertIntermediate(\n",
       "          (dense): Linear(in_features=768, out_features=3072, bias=True)\n",
       "          (intermediate_act_fn): GELUActivation()\n",
       "        )\n",
       "        (output): BertOutput(\n",
       "          (dense): Linear(in_features=3072, out_features=768, bias=True)\n",
       "          (LayerNorm): LayerNorm((768,), eps=1e-12, elementwise_affine=True)\n",
       "          (dropout): Dropout(p=0.1, inplace=False)\n",
       "        )\n",
       "      )\n",
       "    )\n",
       "  )\n",
       "  (pooler): BertPooler(\n",
       "    (dense): Linear(in_features=768, out_features=768, bias=True)\n",
       "    (activation): Tanh()\n",
       "  )\n",
       ")"
      ]
     },
     "execution_count": 5,
     "metadata": {},
     "output_type": "execute_result"
    }
   ],
   "source": [
    "# 加载支持中文的BERT模型和分词器    \n",
    "tokenizer = BertTokenizer.from_pretrained('bert-base-chinese')    \n",
    "model = BertModel.from_pretrained('bert-base-chinese')   \n",
    "model.to(device)  # 确保模型在正确的设备上  "
   ]
  },
  {
   "cell_type": "code",
   "execution_count": 6,
   "id": "e3ae08a9-c130-43a1-a090-bf79eb237917",
   "metadata": {},
   "outputs": [],
   "source": [
    "keyword_embeddings = []  \n",
    "  \n",
    "for index, row in df.iterrows():  \n",
    "    keyword = row[keyword_column]  \n",
    "    inputs = tokenizer(keyword, return_tensors=\"pt\", padding=True, truncation=True)  \n",
    "    inputs = {k: v.to(device) for k, v in inputs.items()}  # 确保输入在GPU上  \n",
    "      \n",
    "    with torch.no_grad():  \n",
    "        outputs = model(**inputs)  \n",
    "        last_hidden_states = outputs.last_hidden_state  \n",
    "          \n",
    "        # 我们取[CLS]标记的嵌入作为整个句子的表示  \n",
    "        # 注意这里.cpu()是在获取numpy数组之前调用的，以确保数据在CPU上  \n",
    "        keyword_embeddings.append(last_hidden_states[0, 0, :].cpu().numpy())"
   ]
  },
  {
   "cell_type": "code",
   "execution_count": 7,
   "id": "5e80abf6-82c9-4781-95e7-554ecb1d2f03",
   "metadata": {},
   "outputs": [],
   "source": [
    "# 这里我们使用NumPy数组，因为cosine_similarity可以直接处理NumPy数组  \n",
    "import numpy as np\n",
    "keyword_embeddings = np.array(keyword_embeddings)    "
   ]
  },
  {
   "cell_type": "code",
   "execution_count": 14,
   "id": "dc476441-81b9-4f63-8f25-e084ad9e31f3",
   "metadata": {},
   "outputs": [],
   "source": [
    "# 对你自己输入的关键词进行BERT嵌入    \n",
    "input_keyword = \"中医\"  # 替换为你的关键词    \n",
    "input_inputs = tokenizer(input_keyword, return_tensors=\"pt\", padding=True, truncation=True)    \n",
    "input_inputs = {k: v.to(device) for k, v in input_inputs.items()}    \n",
    "with torch.no_grad():    \n",
    "    input_outputs = model(**input_inputs)    \n",
    "    input_embedding = input_outputs.last_hidden_state[0, 0, :].cpu().numpy()    \n",
    "  "
   ]
  },
  {
   "cell_type": "code",
   "execution_count": 15,
   "id": "96612839-866c-4a12-9e95-a8b745f21420",
   "metadata": {},
   "outputs": [
    {
     "name": "stdout",
     "output_type": "stream",
     "text": [
      "与输入关键词最相似的书名是: 甲骨文化与中医学\n"
     ]
    }
   ],
   "source": [
    "from sklearn.metrics.pairwise import cosine_similarity \n",
    "# 计算相似度    \n",
    "similarities = cosine_similarity(input_embedding.reshape(1, -1), keyword_embeddings)\n",
    "# 注意这里直接使用NumPy数组  \n",
    "similarities = cosine_similarity(input_embedding.reshape(1, -1), keyword_embeddings)    \n",
    "  \n",
    "# 找到相似度最高的索引    \n",
    "max_similarity_idx = np.argmax(similarities)    \n",
    "  \n",
    "# 获取相似度最高的书名    \n",
    "most_similar_title = df.loc[max_similarity_idx, title_column]    \n",
    "print(f\"与输入关键词最相似的书名是: {most_similar_title}\")"
   ]
  },
  {
   "cell_type": "code",
   "execution_count": null,
   "id": "59118a74-e9d7-4cd8-b727-f8d977268891",
   "metadata": {},
   "outputs": [],
   "source": []
  }
 ],
 "metadata": {
  "kernelspec": {
   "display_name": "Python 3 (ipykernel)",
   "language": "python",
   "name": "python3"
  },
  "language_info": {
   "codemirror_mode": {
    "name": "ipython",
    "version": 3
   },
   "file_extension": ".py",
   "mimetype": "text/x-python",
   "name": "python",
   "nbconvert_exporter": "python",
   "pygments_lexer": "ipython3",
   "version": "3.10.12"
  }
 },
 "nbformat": 4,
 "nbformat_minor": 5
}

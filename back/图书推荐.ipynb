{
 "cells": [
  {
   "cell_type": "code",
   "execution_count": 1,
   "id": "22ddadeb-8b0d-4970-9b81-bacdb424b196",
   "metadata": {},
   "outputs": [
    {
     "name": "stdout",
     "output_type": "stream",
     "text": [
      "Looking in indexes: https://pypi.tuna.tsinghua.edu.cn/simple\n",
      "Collecting surprise\n",
      "  Downloading https://pypi.tuna.tsinghua.edu.cn/packages/61/de/e5cba8682201fcf9c3719a6fdda95693468ed061945493dea2dd37c5618b/surprise-0.1-py2.py3-none-any.whl (1.8 kB)\n",
      "Collecting scikit-surprise (from surprise)\n",
      "  Downloading https://pypi.tuna.tsinghua.edu.cn/packages/d9/8d/40ac32e703f3808159f9e2b33760cfbd6224cc7783eb663091eddc9581c2/scikit_surprise-1.1.4.tar.gz (154 kB)\n",
      "\u001b[2K     \u001b[90m━━━━━━━━━━━━━━━━━━━━━━━━━━━━━━━━━━━━━\u001b[0m \u001b[32m154.4/154.4 kB\u001b[0m \u001b[31m111.5 MB/s\u001b[0m eta \u001b[36m0:00:00\u001b[0m\n",
      "\u001b[?25h  Installing build dependencies ... \u001b[?25ldone\n",
      "\u001b[?25h  Getting requirements to build wheel ... \u001b[?25ldone\n",
      "\u001b[?25h  Preparing metadata (pyproject.toml) ... \u001b[?25ldone\n",
      "\u001b[?25hRequirement already satisfied: joblib>=1.2.0 in /environment/miniconda3/lib/python3.10/site-packages (from scikit-surprise->surprise) (1.3.2)\n",
      "Requirement already satisfied: numpy>=1.19.5 in /environment/miniconda3/lib/python3.10/site-packages (from scikit-surprise->surprise) (1.24.1)\n",
      "Requirement already satisfied: scipy>=1.6.0 in /environment/miniconda3/lib/python3.10/site-packages (from scikit-surprise->surprise) (1.11.3)\n",
      "Building wheels for collected packages: scikit-surprise\n",
      "  Building wheel for scikit-surprise (pyproject.toml) ... \u001b[?25ldone\n",
      "\u001b[?25h  Created wheel for scikit-surprise: filename=scikit_surprise-1.1.4-cp310-cp310-linux_x86_64.whl size=639542 sha256=6bf9a6ed384afdd298d3337c0f97e861809df5f3c90ac82871919464a21a02e0\n",
      "  Stored in directory: /home/featurize/.cache/pip/wheels/99/90/55/3b18532fbb4958f22561f92df4507bbbb95cbe1cdaa490a13f\n",
      "Successfully built scikit-surprise\n",
      "Installing collected packages: scikit-surprise, surprise\n",
      "Successfully installed scikit-surprise-1.1.4 surprise-0.1\n",
      "Note: you may need to restart the kernel to use updated packages.\n"
     ]
    }
   ],
   "source": [
    "pip install surprise"
   ]
  },
  {
   "cell_type": "code",
   "execution_count": null,
   "id": "8e8a62f3-ee41-4dc8-8f52-d1e86987adf6",
   "metadata": {},
   "outputs": [],
   "source": []
  },
  {
   "cell_type": "code",
   "execution_count": 2,
   "id": "a256b14e-0238-4612-9eb8-6148bda4466d",
   "metadata": {},
   "outputs": [],
   "source": [
    "import pandas as pd\n",
    "from surprise import SVD, Dataset, Reader, accuracy\n",
    "from surprise.model_selection import train_test_split\n",
    "import numpy as np\n",
    "import os"
   ]
  },
  {
   "cell_type": "code",
   "execution_count": 5,
   "id": "c06f6dc8-23ff-4696-b65a-78c9190cdcb2",
   "metadata": {},
   "outputs": [],
   "source": [
    "# Load the data\n",
    "data_df = pd.read_csv('Ratings.csv')"
   ]
  },
  {
   "cell_type": "code",
   "execution_count": 6,
   "id": "b97e5fed-ae87-4342-81ec-21367679199b",
   "metadata": {},
   "outputs": [
    {
     "data": {
      "text/html": [
       "<div>\n",
       "<style scoped>\n",
       "    .dataframe tbody tr th:only-of-type {\n",
       "        vertical-align: middle;\n",
       "    }\n",
       "\n",
       "    .dataframe tbody tr th {\n",
       "        vertical-align: top;\n",
       "    }\n",
       "\n",
       "    .dataframe thead th {\n",
       "        text-align: right;\n",
       "    }\n",
       "</style>\n",
       "<table border=\"1\" class=\"dataframe\">\n",
       "  <thead>\n",
       "    <tr style=\"text-align: right;\">\n",
       "      <th></th>\n",
       "      <th>User-ID</th>\n",
       "      <th>ISBN</th>\n",
       "      <th>Book-Rating</th>\n",
       "    </tr>\n",
       "  </thead>\n",
       "  <tbody>\n",
       "    <tr>\n",
       "      <th>0</th>\n",
       "      <td>276725</td>\n",
       "      <td>034545104X</td>\n",
       "      <td>0</td>\n",
       "    </tr>\n",
       "    <tr>\n",
       "      <th>1</th>\n",
       "      <td>276726</td>\n",
       "      <td>0155061224</td>\n",
       "      <td>5</td>\n",
       "    </tr>\n",
       "    <tr>\n",
       "      <th>2</th>\n",
       "      <td>276727</td>\n",
       "      <td>0446520802</td>\n",
       "      <td>0</td>\n",
       "    </tr>\n",
       "    <tr>\n",
       "      <th>3</th>\n",
       "      <td>276729</td>\n",
       "      <td>052165615X</td>\n",
       "      <td>3</td>\n",
       "    </tr>\n",
       "    <tr>\n",
       "      <th>4</th>\n",
       "      <td>276729</td>\n",
       "      <td>0521795028</td>\n",
       "      <td>6</td>\n",
       "    </tr>\n",
       "  </tbody>\n",
       "</table>\n",
       "</div>"
      ],
      "text/plain": [
       "   User-ID        ISBN  Book-Rating\n",
       "0   276725  034545104X            0\n",
       "1   276726  0155061224            5\n",
       "2   276727  0446520802            0\n",
       "3   276729  052165615X            3\n",
       "4   276729  0521795028            6"
      ]
     },
     "execution_count": 6,
     "metadata": {},
     "output_type": "execute_result"
    }
   ],
   "source": [
    "data_df.head()"
   ]
  },
  {
   "cell_type": "code",
   "execution_count": 21,
   "id": "236ccc02-0ff2-497c-8c0c-e15ba731ed0b",
   "metadata": {},
   "outputs": [
    {
     "name": "stderr",
     "output_type": "stream",
     "text": [
      "/tmp/ipykernel_20275/170401396.py:2: DtypeWarning: Columns (3) have mixed types. Specify dtype option on import or set low_memory=False.\n",
      "  books_df = pd.read_csv('Books.csv')\n"
     ]
    }
   ],
   "source": [
    "# Load the jokes\n",
    "books_df = pd.read_csv('Books.csv')"
   ]
  },
  {
   "cell_type": "code",
   "execution_count": 22,
   "id": "109169d0-44e1-4560-8b0e-45e11d2a1bdf",
   "metadata": {},
   "outputs": [],
   "source": [
    "#将books_df中的索引定义为Book-Title\n",
    "books_df = books_df.rename_axis('book_id').reset_index()"
   ]
  },
  {
   "cell_type": "code",
   "execution_count": 23,
   "id": "70d973f2-9d5d-4621-a160-cea0f2a5707e",
   "metadata": {},
   "outputs": [
    {
     "data": {
      "text/html": [
       "<div>\n",
       "<style scoped>\n",
       "    .dataframe tbody tr th:only-of-type {\n",
       "        vertical-align: middle;\n",
       "    }\n",
       "\n",
       "    .dataframe tbody tr th {\n",
       "        vertical-align: top;\n",
       "    }\n",
       "\n",
       "    .dataframe thead th {\n",
       "        text-align: right;\n",
       "    }\n",
       "</style>\n",
       "<table border=\"1\" class=\"dataframe\">\n",
       "  <thead>\n",
       "    <tr style=\"text-align: right;\">\n",
       "      <th></th>\n",
       "      <th>book_id</th>\n",
       "      <th>ISBN</th>\n",
       "      <th>Book-Title</th>\n",
       "      <th>Book-Author</th>\n",
       "      <th>Year-Of-Publication</th>\n",
       "      <th>Publisher</th>\n",
       "      <th>Image-URL-S</th>\n",
       "      <th>Image-URL-M</th>\n",
       "      <th>Image-URL-L</th>\n",
       "    </tr>\n",
       "  </thead>\n",
       "  <tbody>\n",
       "    <tr>\n",
       "      <th>0</th>\n",
       "      <td>0</td>\n",
       "      <td>0195153448</td>\n",
       "      <td>Classical Mythology</td>\n",
       "      <td>Mark P. O. Morford</td>\n",
       "      <td>2002</td>\n",
       "      <td>Oxford University Press</td>\n",
       "      <td>http://images.amazon.com/images/P/0195153448.0...</td>\n",
       "      <td>http://images.amazon.com/images/P/0195153448.0...</td>\n",
       "      <td>http://images.amazon.com/images/P/0195153448.0...</td>\n",
       "    </tr>\n",
       "    <tr>\n",
       "      <th>1</th>\n",
       "      <td>1</td>\n",
       "      <td>0002005018</td>\n",
       "      <td>Clara Callan</td>\n",
       "      <td>Richard Bruce Wright</td>\n",
       "      <td>2001</td>\n",
       "      <td>HarperFlamingo Canada</td>\n",
       "      <td>http://images.amazon.com/images/P/0002005018.0...</td>\n",
       "      <td>http://images.amazon.com/images/P/0002005018.0...</td>\n",
       "      <td>http://images.amazon.com/images/P/0002005018.0...</td>\n",
       "    </tr>\n",
       "    <tr>\n",
       "      <th>2</th>\n",
       "      <td>2</td>\n",
       "      <td>0060973129</td>\n",
       "      <td>Decision in Normandy</td>\n",
       "      <td>Carlo D'Este</td>\n",
       "      <td>1991</td>\n",
       "      <td>HarperPerennial</td>\n",
       "      <td>http://images.amazon.com/images/P/0060973129.0...</td>\n",
       "      <td>http://images.amazon.com/images/P/0060973129.0...</td>\n",
       "      <td>http://images.amazon.com/images/P/0060973129.0...</td>\n",
       "    </tr>\n",
       "    <tr>\n",
       "      <th>3</th>\n",
       "      <td>3</td>\n",
       "      <td>0374157065</td>\n",
       "      <td>Flu: The Story of the Great Influenza Pandemic...</td>\n",
       "      <td>Gina Bari Kolata</td>\n",
       "      <td>1999</td>\n",
       "      <td>Farrar Straus Giroux</td>\n",
       "      <td>http://images.amazon.com/images/P/0374157065.0...</td>\n",
       "      <td>http://images.amazon.com/images/P/0374157065.0...</td>\n",
       "      <td>http://images.amazon.com/images/P/0374157065.0...</td>\n",
       "    </tr>\n",
       "    <tr>\n",
       "      <th>4</th>\n",
       "      <td>4</td>\n",
       "      <td>0393045218</td>\n",
       "      <td>The Mummies of Urumchi</td>\n",
       "      <td>E. J. W. Barber</td>\n",
       "      <td>1999</td>\n",
       "      <td>W. W. Norton &amp;amp; Company</td>\n",
       "      <td>http://images.amazon.com/images/P/0393045218.0...</td>\n",
       "      <td>http://images.amazon.com/images/P/0393045218.0...</td>\n",
       "      <td>http://images.amazon.com/images/P/0393045218.0...</td>\n",
       "    </tr>\n",
       "  </tbody>\n",
       "</table>\n",
       "</div>"
      ],
      "text/plain": [
       "   book_id        ISBN                                         Book-Title  \\\n",
       "0        0  0195153448                                Classical Mythology   \n",
       "1        1  0002005018                                       Clara Callan   \n",
       "2        2  0060973129                               Decision in Normandy   \n",
       "3        3  0374157065  Flu: The Story of the Great Influenza Pandemic...   \n",
       "4        4  0393045218                             The Mummies of Urumchi   \n",
       "\n",
       "            Book-Author Year-Of-Publication                   Publisher  \\\n",
       "0    Mark P. O. Morford                2002     Oxford University Press   \n",
       "1  Richard Bruce Wright                2001       HarperFlamingo Canada   \n",
       "2          Carlo D'Este                1991             HarperPerennial   \n",
       "3      Gina Bari Kolata                1999        Farrar Straus Giroux   \n",
       "4       E. J. W. Barber                1999  W. W. Norton &amp; Company   \n",
       "\n",
       "                                         Image-URL-S  \\\n",
       "0  http://images.amazon.com/images/P/0195153448.0...   \n",
       "1  http://images.amazon.com/images/P/0002005018.0...   \n",
       "2  http://images.amazon.com/images/P/0060973129.0...   \n",
       "3  http://images.amazon.com/images/P/0374157065.0...   \n",
       "4  http://images.amazon.com/images/P/0393045218.0...   \n",
       "\n",
       "                                         Image-URL-M  \\\n",
       "0  http://images.amazon.com/images/P/0195153448.0...   \n",
       "1  http://images.amazon.com/images/P/0002005018.0...   \n",
       "2  http://images.amazon.com/images/P/0060973129.0...   \n",
       "3  http://images.amazon.com/images/P/0374157065.0...   \n",
       "4  http://images.amazon.com/images/P/0393045218.0...   \n",
       "\n",
       "                                         Image-URL-L  \n",
       "0  http://images.amazon.com/images/P/0195153448.0...  \n",
       "1  http://images.amazon.com/images/P/0002005018.0...  \n",
       "2  http://images.amazon.com/images/P/0060973129.0...  \n",
       "3  http://images.amazon.com/images/P/0374157065.0...  \n",
       "4  http://images.amazon.com/images/P/0393045218.0...  "
      ]
     },
     "execution_count": 23,
     "metadata": {},
     "output_type": "execute_result"
    }
   ],
   "source": [
    "#完成实验步骤中对数据集操作后执行\n",
    "books_df.head()"
   ]
  },
  {
   "cell_type": "code",
   "execution_count": 24,
   "id": "1792d6b0-99ae-49d3-bbf4-2b29cf899c1a",
   "metadata": {},
   "outputs": [],
   "source": [
    "# Create a Reader object\n",
    "reader = Reader(rating_scale=(0, 10))"
   ]
  },
  {
   "cell_type": "code",
   "execution_count": 26,
   "id": "74be2444-c51c-4bba-8af3-c7bd959e180a",
   "metadata": {},
   "outputs": [],
   "source": [
    "ratings = data_df.sort_values('User-ID')"
   ]
  },
  {
   "cell_type": "code",
   "execution_count": 27,
   "id": "34cc898e-a027-46c5-bae3-3ccb947a0647",
   "metadata": {},
   "outputs": [],
   "source": [
    "split_user_id =  ratings['User-ID'].quantile(0.8)"
   ]
  },
  {
   "cell_type": "code",
   "execution_count": 28,
   "id": "15cb53f8-8237-4705-9316-7eca63903d59",
   "metadata": {},
   "outputs": [],
   "source": [
    "# 创建训练集和测试集\n",
    "train_ratings = ratings[ratings['User-ID']<split_user_id]\n",
    "test_ratings = ratings[ratings['User-ID']>=split_user_id]"
   ]
  },
  {
   "cell_type": "code",
   "execution_count": 30,
   "id": "0185d85f-2019-424f-9fd0-c31d75f4717f",
   "metadata": {},
   "outputs": [],
   "source": [
    "# 将训练集和测试集分别转换为Surprise的格式\n",
    "train_data = Dataset.load_from_df(train_ratings[['User-ID', 'ISBN', 'Book-Rating']], reader)\n",
    "trainset = train_data.build_full_trainset()"
   ]
  },
  {
   "cell_type": "code",
   "execution_count": 31,
   "id": "68466fa1-7583-482d-b976-9e4144952ca3",
   "metadata": {},
   "outputs": [],
   "source": [
    "testset = [tuple(x) for x in test_ratings[['User-ID', 'ISBN', 'Book-Rating']].values]"
   ]
  },
  {
   "cell_type": "code",
   "execution_count": 32,
   "id": "56e05665-6ca4-4f6d-85aa-63d35b51065e",
   "metadata": {},
   "outputs": [],
   "source": [
    "# 使用SVD算法\n",
    "algo = SVD()"
   ]
  },
  {
   "cell_type": "code",
   "execution_count": 33,
   "id": "a6294fb0-160e-4517-8fcc-6df32bd058a4",
   "metadata": {},
   "outputs": [
    {
     "data": {
      "text/plain": [
       "<surprise.prediction_algorithms.matrix_factorization.SVD at 0x7ff1052bdff0>"
      ]
     },
     "execution_count": 33,
     "metadata": {},
     "output_type": "execute_result"
    }
   ],
   "source": [
    "# 训练模型\n",
    "algo.fit(trainset)"
   ]
  },
  {
   "cell_type": "code",
   "execution_count": 34,
   "id": "8b054829-5159-497c-9565-011849acc9b9",
   "metadata": {},
   "outputs": [],
   "source": [
    "# 进行预测\n",
    "predictions = algo.test(testset)"
   ]
  },
  {
   "cell_type": "code",
   "execution_count": 35,
   "id": "44246fe5-26ef-424c-ae0a-010be4fb62a3",
   "metadata": {},
   "outputs": [
    {
     "name": "stdout",
     "output_type": "stream",
     "text": [
      "RMSE: 3.7810\n",
      "MAE:  3.5570\n"
     ]
    }
   ],
   "source": [
    "# 评估模型\n",
    "rmse = accuracy.rmse(predictions) # 这行会打印并返回RMSE\n",
    "mae = accuracy.mae(predictions) # 这行会打印并返回MAE"
   ]
  },
  {
   "cell_type": "code",
   "execution_count": 73,
   "id": "795e0764-e3f6-4517-877c-0e6ba050af88",
   "metadata": {},
   "outputs": [],
   "source": [
    "# 推荐函数\n",
    "def get_top_n_recommendations(User_ID, n=9):\n",
    "    # 获取用户未评分的电影\n",
    "    user_rated_books = ratings[ratings['User-ID'] == User_ID]['ISBN']\n",
    "    all_books = set(ratings['ISBN'].unique())\n",
    "    unrated_books = all_books - set(user_rated_books)\n",
    "    # 预测用户对未评分电影的评分\n",
    "    predictions = [algo.predict(User_ID, book_id) for book_id in unrated_books]\n",
    "    # 按评分从高到低排序并返回前n个推荐结果\n",
    "    top_n = sorted(predictions, key=lambda x: x.est, reverse=True)[:n]\n",
    "    top_n_book_ids = [pred.iid for pred in top_n]\n",
    "    top_n_estimates = [pred.est for pred in top_n]\n",
    "    return books_df[jokes_df['ISBN'].isin(top_n_book_ids)][['ISBN', 'Book-Title']], top_n_estimates"
   ]
  },
  {
   "cell_type": "code",
   "execution_count": 80,
   "id": "1a1eab61-8513-45b8-a72d-ca3a37d2a340",
   "metadata": {},
   "outputs": [
    {
     "name": "stdout",
     "output_type": "stream",
     "text": [
      "8\n",
      "  Book-Title  predicted_rating\n",
      "0      Book1                 1\n",
      "1      Book2                 2\n",
      "2      Book3                 3\n",
      "3      Book4                 4\n",
      "4      Book5                 5\n",
      "5      Book6                 6\n",
      "6      Book7                 7\n",
      "7      Book8                 9\n"
     ]
    }
   ],
   "source": [
    "import pandas as pd  \n",
    "  \n",
    "# 我们创建一个DataFrame  \n",
    "data = {  \n",
    "    'Book-Title': ['Book1', 'Book2', 'Book3', 'Book4', 'Book5', 'Book6', 'Book7', 'Book8'],  \n",
    "    }  \n",
    "  \n",
    "# 创建一个DataFrame  \n",
    "df = pd.DataFrame(data)  \n",
    "  \n",
    "# 现在df已经被定义，我们可以安全地获取其索引的长度  \n",
    "index_length = len(df.index)  \n",
    "print(index_length)  # 应该输出8  \n",
    "  \n",
    "# 有一个top_n_estimates列表，长度可能不对  \n",
    "top_n_estimates = [1, 2, 3, 4, 5, 6, 7, 9, 10]  # 这里有9个值，而DataFrame有8行  \n",
    "  \n",
    "# 截断top_n_estimates到正确的长度  \n",
    "top_n_estimates = top_n_estimates[:index_length]  \n",
    "  \n",
    "# 将截断后的列表赋值给DataFrame的一个新列  \n",
    "df['predicted_rating'] = top_n_estimates  \n",
    "  \n",
    "# 现在df包含一个名为'predicted_rating'的新列  \n",
    "print(df)"
   ]
  },
  {
   "cell_type": "code",
   "execution_count": 81,
   "id": "f55e3ff3-8555-4feb-a343-086c0f5843b1",
   "metadata": {},
   "outputs": [],
   "source": [
    "# 假设df是你的DataFrame，index_length是DataFrame的索引长度  \n",
    "index_length = len(df.index)  \n",
    "top_n_estimates = top_n_estimates[:index_length]  # 截断top_n_estimates到正确的长度  \n",
    "df['predicted_rating'] = top_n_estimates\n"
   ]
  },
  {
   "cell_type": "code",
   "execution_count": 82,
   "id": "b070bac5-67c2-4245-9cb4-fd25b41f6e5d",
   "metadata": {},
   "outputs": [
    {
     "name": "stdout",
     "output_type": "stream",
     "text": [
      "为新用户 278855 推荐的前10个笑话: \n",
      "                                              Book-Title  predicted_rating\n",
      "101    Rich Dad, Poor Dad: What the Rich Teach Their ...          8.101867\n",
      "748                                    The Da Vinci Code          7.293884\n",
      "1101        Where the Sidewalk Ends : Poems and Drawings          7.198364\n",
      "1595                          The Blue Nowhere : A Novel          7.183948\n",
      "3028                                                Free          7.153900\n",
      "4697   Stranger in a Strange Land (Remembering Tomorrow)          7.126729\n",
      "9785            The Vagina Monologues: The V-Day Edition          7.030364\n",
      "11220  Marching Through Culpeper : A Novel of Culpepe...          7.009743\n",
      "16190                                         Falling Up          6.938264\n"
     ]
    }
   ],
   "source": [
    "new_user_id = ratings['User-ID'].max() + 1\n",
    "new_user_ratings = pd.DataFrame({\n",
    "        'User-ID': [new_user_id,new_user_id,new_user_id],\n",
    "        'ISBN': [107,149,34],\n",
    "        'Book-Rating': [10,9,2],\n",
    "    })\n",
    "\n",
    "    # 将新用户的评分添加到训练集\n",
    "new_ratings = pd.concat([ratings,new_user_ratings],ignore_index=True)\n",
    "new_train_data = Dataset.load_from_df(new_ratings[['User-ID','ISBN','Book-Rating']],reader)\n",
    "new_trainset = new_train_data.build_full_trainset()\n",
    "\n",
    "    # 重新训练模型\n",
    "algo.fit(new_trainset)\n",
    "\n",
    "    # 为新用户生成推荐\n",
    "recommended_books_new_user, top_n_estimates = get_top_n_recommendations(new_user_id)\n",
    "recommended_books_new_user['predicted_rating'] = top_n_estimates\n",
    "\n",
    "print(f\"为新用户 {new_user_id} 推荐的前10个笑话: \")\n",
    "print(recommended_books_new_user[['Book-Title', 'predicted_rating']])"
   ]
  },
  {
   "cell_type": "code",
   "execution_count": 42,
   "id": "cdcc0589-007e-4af5-b43b-cc5fe0f6e499",
   "metadata": {},
   "outputs": [
    {
     "name": "stdout",
     "output_type": "stream",
     "text": [
      "Index(['User-ID', 'ISBN', 'Book-Rating'], dtype='object')\n"
     ]
    }
   ],
   "source": [
    "print(ratings.columns)"
   ]
  },
  {
   "cell_type": "code",
   "execution_count": 75,
   "id": "cddfc59f-95e6-49c6-9d19-bf3695329af7",
   "metadata": {},
   "outputs": [
    {
     "name": "stdout",
     "output_type": "stream",
     "text": [
      "8\n"
     ]
    }
   ],
   "source": [
    "print(len(recommended_books_new_user.index))  # 应该输出8"
   ]
  },
  {
   "cell_type": "code",
   "execution_count": 76,
   "id": "5b27d4e7-3b7b-4dbe-86fd-f009ba89bf42",
   "metadata": {},
   "outputs": [
    {
     "name": "stdout",
     "output_type": "stream",
     "text": [
      "9\n"
     ]
    }
   ],
   "source": [
    "print(len(top_n_estimates))  # 应该输出8"
   ]
  },
  {
   "cell_type": "code",
   "execution_count": null,
   "id": "de7cc792-ac2f-424a-9136-8a5c0863c330",
   "metadata": {},
   "outputs": [],
   "source": []
  }
 ],
 "metadata": {
  "kernelspec": {
   "display_name": "Python 3 (ipykernel)",
   "language": "python",
   "name": "python3"
  },
  "language_info": {
   "codemirror_mode": {
    "name": "ipython",
    "version": 3
   },
   "file_extension": ".py",
   "mimetype": "text/x-python",
   "name": "python",
   "nbconvert_exporter": "python",
   "pygments_lexer": "ipython3",
   "version": "3.10.12"
  }
 },
 "nbformat": 4,
 "nbformat_minor": 5
}
